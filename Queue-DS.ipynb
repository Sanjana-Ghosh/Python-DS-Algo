{
 "cells": [
  {
   "cell_type": "markdown",
   "metadata": {},
   "source": [
    "## Queue Using LL\n",
    "### Queue - FIFO"
   ]
  },
  {
   "cell_type": "code",
   "execution_count": 2,
   "metadata": {},
   "outputs": [],
   "source": [
    "\n",
    "from sys import stdin\n",
    "\n",
    "\n",
    "#Following is the structure of the node class for a Singly Linked List\n",
    "class Node :\n",
    "\n",
    "    def __init__(self, data) :\n",
    "        self.data = data\n",
    "        self.next = None\n",
    "\n",
    "\n",
    "class Queue :\n",
    "\n",
    "    #Define data members and __init__()\n",
    "    def __init__(self):\n",
    "        self.head = None\n",
    "        self.tail = None\n",
    "        self.count = 0\n",
    "        \n",
    "\n",
    "    '''----------------- Public Functions of Stack -----------------'''\n",
    "\n",
    "    def getSize(self) :\n",
    "        #Implement the getSize() function\n",
    "        return self.count \n",
    "\n",
    "\n",
    "\n",
    "    def isEmpty(self) :\n",
    "        #Implement the isEmpty() function\n",
    "        return self.count == 0\n",
    "\n",
    "\n",
    "\n",
    "    def enqueue(self, data) :\n",
    "        #Implement the enqueue(element) function\n",
    "        newnode = Node(data)\n",
    "        if self.head is None:\n",
    "            self.head = newnode    \n",
    "        else:\n",
    "            self.tail.next = newnode\n",
    "            \n",
    "        self.tail = newnode\n",
    "        self.count+= 1\n",
    "        \n",
    "\n",
    "\n",
    "    def dequeue(self) :\n",
    "        #Implement the dequeue() function\n",
    "        if self.head is None:\n",
    "            return -1\n",
    "        val = self.head.data\n",
    "        self.head = self.head.next\n",
    "        self.count-=1\n",
    "        return val\n",
    "    \t\n",
    "\n",
    "\n",
    "\n",
    "    def front(self) :\n",
    "        #Implement the front() function\n",
    "        if self.head is None:\n",
    "            return -1\n",
    "        return self.head.data\n",
    "        \n"
   ]
  },
  {
   "cell_type": "code",
   "execution_count": 6,
   "metadata": {},
   "outputs": [
    {
     "name": "stdout",
     "output_type": "stream",
     "text": [
      "5\n"
     ]
    }
   ],
   "source": [
    "#main\n",
    "q = int(input().strip())"
   ]
  },
  {
   "cell_type": "code",
   "execution_count": 9,
   "metadata": {},
   "outputs": [],
   "source": [
    "queue = Queue()"
   ]
  },
  {
   "cell_type": "code",
   "execution_count": 10,
   "metadata": {},
   "outputs": [
    {
     "name": "stdout",
     "output_type": "stream",
     "text": [
      "1 12\n",
      "1 34\n",
      "2\n",
      "12\n",
      "2\n",
      "34\n",
      "4\n",
      "0\n"
     ]
    }
   ],
   "source": [
    "while q > 0 :\n",
    "\n",
    "    inputs = input().strip().split(\" \")\n",
    "    choice = int(inputs[0])\n",
    "\n",
    "    if choice == 1 :\n",
    "        data = int(inputs[1])\n",
    "        queue.enqueue(data)\n",
    "\n",
    "    elif choice == 2 :\n",
    "        print(queue.dequeue())\n",
    "\n",
    "    elif choice == 3 :\n",
    "        print(queue.front())\n",
    "\n",
    "    elif choice == 4 : \n",
    "        print(queue.getSize())\n",
    "\n",
    "    else :\n",
    "        if queue.isEmpty() :\n",
    "            print(\"true\")\n",
    "        else :\n",
    "            print(\"false\")\n",
    "\n",
    "    q -= 1"
   ]
  },
  {
   "cell_type": "markdown",
   "metadata": {},
   "source": [
    "## Reverse Queue using Recursion"
   ]
  },
  {
   "cell_type": "code",
   "execution_count": 3,
   "metadata": {},
   "outputs": [
    {
     "name": "stdout",
     "output_type": "stream",
     "text": [
      "1\n",
      "6\n",
      "1 2 3 4 5 6\n",
      "6 5 4 3 2 1 \n"
     ]
    }
   ],
   "source": [
    "from sys import stdin, setrecursionlimit\n",
    "import queue\n",
    "\n",
    "setrecursionlimit(10 ** 6)\n",
    "\n",
    "def reverseQueue(inputQueue) :\n",
    "    # Your code goes here\n",
    "    #n = inputQueue.qsize()\n",
    "    if inputQueue.empty()== True:\n",
    "        return\n",
    "    val = inputQueue.get()\n",
    "    reverseQueue(inputQueue)\n",
    "    inputQueue.put(val)\n",
    "    return\n",
    "        \n",
    "\n",
    "'''-------------- Utility Functions --------------'''\n",
    "\n",
    "\n",
    "\n",
    "def takeInput():\n",
    "    n = int(input().strip())\n",
    "\n",
    "    qu = queue.Queue()\n",
    "    values = list(map(int, input().strip().split()))\n",
    "\n",
    "    for i in range(n) :\n",
    "        qu.put(values[i])\n",
    "\n",
    "    return qu\n",
    "\n",
    "\n",
    "#main\n",
    "t = int(input().strip())\n",
    "\n",
    "while t > 0 :\n",
    "    \n",
    "    qu = takeInput()\n",
    "    reverseQueue(qu)\n",
    "    \n",
    "    while not qu.empty() :\n",
    "        print(qu.get(), end = \" \")\n",
    "        \n",
    "    print()\n",
    "    \n",
    "    t -= 1"
   ]
  },
  {
   "cell_type": "code",
   "execution_count": null,
   "metadata": {},
   "outputs": [],
   "source": []
  }
 ],
 "metadata": {
  "kernelspec": {
   "display_name": "Python 3",
   "language": "python",
   "name": "python3"
  },
  "language_info": {
   "codemirror_mode": {
    "name": "ipython",
    "version": 3
   },
   "file_extension": ".py",
   "mimetype": "text/x-python",
   "name": "python",
   "nbconvert_exporter": "python",
   "pygments_lexer": "ipython3",
   "version": "3.8.5"
  }
 },
 "nbformat": 4,
 "nbformat_minor": 4
}
